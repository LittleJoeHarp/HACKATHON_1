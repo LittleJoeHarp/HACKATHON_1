{
 "cells": [
  {
   "cell_type": "markdown",
   "id": "e94bf5a0",
   "metadata": {},
   "source": [
    "# HACKATHON SUBMISSION WEEK 3"
   ]
  },
  {
   "cell_type": "markdown",
   "id": "b170bc24",
   "metadata": {},
   "source": [
    "###### IMPORTING NECESSARY LIBRARIES"
   ]
  },
  {
   "cell_type": "code",
   "execution_count": 20,
   "id": "e72c8432",
   "metadata": {},
   "outputs": [],
   "source": [
    "import pandas as pd\n",
    "from sklearn.model_selection import train_test_split\n",
    "from sklearn.ensemble import RandomForestClassifier\n",
    "from sklearn.preprocessing import OneHotEncoder\n",
    "from sklearn.compose import ColumnTransformer\n",
    "from sklearn.pipeline import Pipeline\n",
    "from sklearn.impute import SimpleImputer\n",
    "from sklearn.metrics import roc_auc_score"
   ]
  },
  {
   "cell_type": "markdown",
   "id": "ef7e7642",
   "metadata": {},
   "source": [
    "###### LOADING NECESSARY FILES"
   ]
  },
  {
   "cell_type": "code",
   "execution_count": 21,
   "id": "f819493a",
   "metadata": {},
   "outputs": [],
   "source": [
    "train_features = pd.read_csv(r\"C:\\Users\\Ritama\\Downloads\\dataset and all\\training_set_features.csv\")\n",
    "train_labels = pd.read_csv(r\"C:\\Users\\Ritama\\Downloads\\dataset and all\\training_set_labels.csv\")\n",
    "test_features = pd.read_csv(r\"C:\\Users\\Ritama\\Downloads\\dataset and all\\test_set_features.csv\")"
   ]
  },
  {
   "cell_type": "markdown",
   "id": "4b5a412d",
   "metadata": {},
   "source": [
    "###### IDENTIFYING CATEGORICAL COLUMNS"
   ]
  },
  {
   "cell_type": "code",
   "execution_count": 22,
   "id": "6322ecf1",
   "metadata": {},
   "outputs": [],
   "source": [
    "categorical_features = ['age_group', 'education', 'race', 'sex', 'income_poverty', \n",
    "                        'marital_status', 'rent_or_own', 'employment_status', \n",
    "                        'hhs_geo_region', 'census_msa', 'employment_industry', \n",
    "                        'employment_occupation']"
   ]
  },
  {
   "cell_type": "code",
   "execution_count": 23,
   "id": "499a0e03",
   "metadata": {},
   "outputs": [],
   "source": [
    "\n",
    "# Create a column transformer with one-hot encoder for categorical features and simple imputer for numeric features\n",
    "preprocessor = ColumnTransformer(\n",
    "    transformers=[\n",
    "        ('num', SimpleImputer(strategy='median'), [col for col in train_features.columns if col not in categorical_features]),\n",
    "        ('cat', OneHotEncoder(handle_unknown='ignore'), categorical_features)\n",
    "    ])\n",
    "\n",
    "# Create the RandomForest model pipeline\n",
    "model_xyz = Pipeline(steps=[\n",
    "    ('preprocessor', preprocessor),\n",
    "    ('classifier', RandomForestClassifier(random_state=42))\n",
    "])\n",
    "\n",
    "model_seasonal = Pipeline(steps=[\n",
    "    ('preprocessor', preprocessor),\n",
    "    ('classifier', RandomForestClassifier(random_state=42))\n",
    "])\n",
    "\n",
    "# Split the data\n",
    "X = train_features\n",
    "y_xyz = train_labels['xyz_vaccine']\n",
    "y_seasonal = train_labels['seasonal_vaccine']\n",
    "X_train, X_val, y_train_xyz, y_val_xyz = train_test_split(X, y_xyz, test_size=0.2, random_state=42)\n",
    "_, _, y_train_seasonal, y_val_seasonal = train_test_split(X, y_seasonal, test_size=0.2, random_state=42)\n",
    "\n",
    "# Train the model for xyz_vaccine\n",
    "model_xyz.fit(X_train, y_train_xyz)\n",
    "preds_val_xyz = model_xyz.predict_proba(X_val)[:, 1]\n",
    "\n",
    "# Train the model for seasonal_vaccine\n",
    "model_seasonal.fit(X_train, y_train_seasonal)\n",
    "preds_val_seasonal = model_seasonal.predict_proba(X_val)[:, 1]\n",
    "\n",
    "# Predict for the test set\n",
    "X_test = test_features\n",
    "test_preds_xyz = model_xyz.predict_proba(X_test)[:, 1]\n",
    "test_preds_seasonal = model_seasonal.predict_proba(X_test)[:, 1]\n",
    "\n",
    "\n",
    "\n"
   ]
  },
  {
   "cell_type": "markdown",
   "id": "92fbb51d",
   "metadata": {},
   "source": [
    "###### CALCULATING ROC AUC SCORE"
   ]
  },
  {
   "cell_type": "code",
   "execution_count": 24,
   "id": "abe813bd",
   "metadata": {},
   "outputs": [
    {
     "name": "stdout",
     "output_type": "stream",
     "text": [
      "ROC AUC Score for xyz_vaccine: 0.8294\n",
      "ROC AUC Score for seasonal_vaccine: 0.8521\n",
      "Overall Score (Mean ROC AUC): 0.8408\n"
     ]
    }
   ],
   "source": [
    "# Calculate ROC AUC scores\n",
    "roc_auc_xyz = roc_auc_score(y_val_xyz, preds_val_xyz)\n",
    "roc_auc_seasonal = roc_auc_score(y_val_seasonal, preds_val_seasonal)\n",
    "\n",
    "# Calculate overall score (mean of ROC AUC scores)\n",
    "overall_score = (roc_auc_xyz + roc_auc_seasonal) / 2.0\n",
    "\n",
    "print(f'ROC AUC Score for xyz_vaccine: {roc_auc_xyz:.4f}')\n",
    "print(f'ROC AUC Score for seasonal_vaccine: {roc_auc_seasonal:.4f}')\n",
    "print(f'Overall Score (Mean ROC AUC): {overall_score:.4f}')"
   ]
  },
  {
   "cell_type": "markdown",
   "id": "085eea85",
   "metadata": {},
   "source": [
    "###### SAVING SUBMISSION FILE"
   ]
  },
  {
   "cell_type": "code",
   "execution_count": 25,
   "id": "c3cb6df3",
   "metadata": {},
   "outputs": [
    {
     "name": "stdout",
     "output_type": "stream",
     "text": [
      "Submission file saved as submission.csv\n"
     ]
    }
   ],
   "source": [
    "# Prepare the submission file\n",
    "submission = pd.DataFrame({\n",
    "    'respondent_id': test_features['respondent_id'],\n",
    "    'xyz_vaccine': test_preds_xyz,\n",
    "    'seasonal_vaccine': test_preds_seasonal\n",
    "})\n",
    "\n",
    "# Save the submission file\n",
    "submission.to_csv('submission.csv', index=False)\n",
    "print('Submission file saved as submission.csv')\n"
   ]
  }
 ],
 "metadata": {
  "kernelspec": {
   "display_name": "Python 3 (ipykernel)",
   "language": "python",
   "name": "python3"
  },
  "language_info": {
   "codemirror_mode": {
    "name": "ipython",
    "version": 3
   },
   "file_extension": ".py",
   "mimetype": "text/x-python",
   "name": "python",
   "nbconvert_exporter": "python",
   "pygments_lexer": "ipython3",
   "version": "3.11.7"
  }
 },
 "nbformat": 4,
 "nbformat_minor": 5
}
